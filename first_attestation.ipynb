{
 "cells": [
  {
   "cell_type": "markdown",
   "id": "1453fbd5e471a5cd",
   "metadata": {},
   "source": [
    "# Аттестация №1"
   ]
  },
  {
   "cell_type": "markdown",
   "id": "1db49e463da46021",
   "metadata": {},
   "source": [
    "### Задание №1\n",
    "Напишите программу, которая принимает словарь `input_dict` и возвращает строку вида: `ключ=значение&ключ=значение`\n",
    "\n",
    "Строка должна быть лексикографически отсортирована по ключам исходного словаря. Сохраните полученный ответ в `result`."
   ]
  },
  {
   "cell_type": "code",
   "execution_count": 33,
   "id": "initial_id",
   "metadata": {
    "ExecuteTime": {
     "end_time": "2024-12-09T13:15:08.317204Z",
     "start_time": "2024-12-09T13:15:08.313520Z"
    },
    "collapsed": true
   },
   "outputs": [],
   "source": [
    "input_dict = {'lesson': 2, 'task': 4, 'course': 'python'}\n",
    "result = 'course=python&lesson=2&task=4'"
   ]
  },
  {
   "cell_type": "code",
   "execution_count": 34,
   "id": "4025e26c2e18bc2f",
   "metadata": {},
   "outputs": [
    {
     "name": "stdout",
     "output_type": "stream",
     "text": [
      "course=python&lesson=2&task=4\n"
     ]
    }
   ],
   "source": [
    "# Напиши решение тут\n",
    "sorted_items = sorted(input_dict.items())\n",
    "result = '&'.join(f\"{key}={value}\" for key, value in sorted_items)\n",
    "print(result)\n",
    "\n"
   ]
  },
  {
   "cell_type": "markdown",
   "id": "782b3120fa932c5d",
   "metadata": {},
   "source": [
    "### Задание №2\n",
    "Напишите программу, которая будет принимать число n и проверять, кратна ли каждая его цифра цифре, стоящей слева от нее. Ответ сохраните в `result` в виде массива булевых значений результатов проверок.\n",
    "\n",
    "`result` всегда должен начинаться с False, так как слева от первой цифры ничего нет.\n",
    "\n",
    "Пример:\n",
    "```python\n",
    "n = 462825624\n",
    "result = [False, False, False, True, False, False, False, False, True]\n",
    "```"
   ]
  },
  {
   "cell_type": "code",
   "execution_count": 35,
   "id": "657f2f13cbfa3383",
   "metadata": {
    "ExecuteTime": {
     "end_time": "2024-12-17T21:00:28.477188Z",
     "start_time": "2024-12-17T21:00:28.475122Z"
    }
   },
   "outputs": [
    {
     "name": "stdout",
     "output_type": "stream",
     "text": [
      "[False, False, True, False, False, False, False, True]\n"
     ]
    }
   ],
   "source": [
    "# Напиши решение тут\n",
    "def check_divisibility(n):\n",
    " num_str = str(n)\n",
    " result = []\n",
    " for i in range (1, len(num_str)):\n",
    "   right_digit = int(num_str[i])          # Текущая цифра\n",
    "   left_digit = int(num_str[i - 1])      # Цифра слева\n",
    "   if num_str[i] != 0:  # Проверяем, чтобы не делить на 0\n",
    "            result.append(right_digit % left_digit == 0)\n",
    "   else:\n",
    "            result.append(False)\n",
    "            \n",
    " return result\n",
    "\n",
    "\n",
    "n = 462825624\n",
    "result = check_divisibility(n)\n",
    "print(result)\n",
    "     \n",
    "\n"
   ]
  },
  {
   "cell_type": "markdown",
   "id": "68f16e7b8c3ee89b",
   "metadata": {},
   "source": [
    "### Задание №3\n",
    "Напишите программу, которая анализирует введенный текст и возвращает статистику. Требуется реализовать **несколько функций**, каждая из которых будет выполнять определенную задачу.\n",
    "\n",
    "---\n",
    "\n",
    "**Остановимся более подробно:**\n",
    "1. Напишите функцию **`count_letters(text)`**, которая возвращает количество букв (только латиницы и кириллицы) в тексте.\n",
    "2. Напишите функцию **`count_digits(text)`**, которая возвращает количество цифр.\n",
    "3. Напишите функцию **`count_words(text)`**, которая возвращает количество слов. Слово — это последовательность букв.\n",
    "4. Напишите функцию **`analyze_text(text)`**, которая вызывает все вышеперечисленные функции и возвращает общий результат в виде словаря:\n",
    "   ```python\n",
    "   {\n",
    "       \"letters\": <количество букв>,\n",
    "       \"digits\": <количество цифр>,\n",
    "       \"words\": <количество слов>\n",
    "   }\n",
    "   ```\n",
    "5. Выведите результат работы функции **`analyze_text`** для введенной строки.\n",
    "\n",
    "\n",
    "**Пример работы программы:**\n",
    "\n",
    "Ввод:\n",
    "```\n",
    "Введите текст: Привет, это тестовый текст 123, с 7 словами!\n",
    "```\n",
    "\n",
    "Вывод:\n",
    "```\n",
    "Анализ текста:\n",
    "Количество букв: 24\n",
    "Количество цифр: 4\n",
    "Количество слов: 7\n",
    "```\n",
    "\n",
    "\n",
    "\n"
   ]
  },
  {
   "cell_type": "code",
   "execution_count": 36,
   "id": "dc3147cbb4f8da7c",
   "metadata": {},
   "outputs": [
    {
     "name": "stdout",
     "output_type": "stream",
     "text": [
      "Анализ текста:\n",
      "Количество букв: 4\n",
      "Количество цифр: 0\n",
      "Количество слов: 1\n"
     ]
    }
   ],
   "source": [
    "# Напиши решение тут\n",
    "import re\n",
    "\n",
    "# Функция для подсчета количества букв\n",
    "def count_letters(text):\n",
    "    count = 0\n",
    "    for char in text:\n",
    "     if re.match(r'[a-zA-Zа-яА-Я]', char):\n",
    "        count += 1\n",
    "    return count\n",
    "\n",
    "# Функция для подсчета количества цифр\n",
    "def count_digits(text):\n",
    "    count = 0\n",
    "    for char in text:\n",
    "     if re.match(r'[0-9]', char):\n",
    "        count += 1\n",
    "    return count\n",
    "\n",
    "# Функция для подсчета количества слов\n",
    "def count_words(text):\n",
    "    words = re.findall(r'[a-zA-Zа-яА-Я]+', text)\n",
    "    return len(words)\n",
    "\n",
    "# Функция для анализа текста\n",
    "def analyze_text(text):\n",
    "    return {\"Количество букв\": count_letters(text), \n",
    "            \"Количество цифр\": count_digits(text),\n",
    "            \"Количество слов\": count_words(text)\n",
    "            }\n",
    "    \n",
    "# Ввод текста\n",
    "text = str(input())\n",
    "\n",
    "# Вывод результатов\n",
    "result = analyze_text(text)\n",
    "print(\"Анализ текста:\")\n",
    "print(f\"Количество букв: {result['Количество букв']}\")\n",
    "print(f\"Количество цифр: {result['Количество цифр']}\")\n",
    "print(f\"Количество слов: {result['Количество слов']}\")\n"
   ]
  },
  {
   "cell_type": "markdown",
   "id": "9b4c0041c65b1ef2",
   "metadata": {},
   "source": [
    "### Задача: Распределение учеников по факультетам Хогвартса\n",
    "\n",
    "В Хогвартсе проходит церемония распределения первокурсников. На основании качеств, которые видит распределяющая шляпа, учеников зачисляют на один из факультетов:  \n",
    "\n",
    "- **Гриффиндор**: отвага, доброта, решительность.  \n",
    "- **Пуффендуй**: усердие, дружелюбие, терпимость.  \n",
    "- **Когтевран**: знание, изобретательность, рассудительность.  \n",
    "- **Слизерин**: амбиции, находчивость, целеустремленность.  \n",
    "\n",
    "Необходимо реализовать функцию `sorting_hat()`, которая принимает словарь с учениками, где:  \n",
    "- **Ключ** — имя ученика.  \n",
    "- **Значение** — качество, определяющее его факультет.  \n",
    "\n",
    "Функция должна вернуть два результата:  \n",
    "\n",
    "1. **sorted_students** — словарь, где ключ — имя ученика, а значение — факультет, на который он зачислен.  \n",
    "   - Данные должны быть отсортированы по названию факультета, а затем по имени ученика.  \n",
    "\n",
    "2. **departments** — словарь, где ключ — факультет, а значение — количество зачисленных учеников.  \n",
    "   - Данные должны быть отсортированы по названию факультета.  \n",
    "\n",
    "### Пример входных данных:  \n",
    "```python\n",
    "new_students = {\n",
    "    'Сириус Блэк': 'отвага',\n",
    "    'Аманда Коршун': 'знание',\n",
    "    'Пенелопа Вулпинголд': 'находчивость',\n",
    "    'Артур Поттер': 'отвага',\n",
    "    'Тесая Блэк': 'изобретательность'\n",
    "}\n",
    "```\n",
    "\n",
    "### Пример результата:  \n",
    "```python\n",
    "# sorted_students:\n",
    "{\n",
    "    'Артур Поттер': 'Гриффиндор',\n",
    "    'Сириус Блэк': 'Гриффиндор',\n",
    "    'Аманда Коршун': 'Когтевран',\n",
    "    'Тесая Блэк': 'Когтевран',\n",
    "    'Пенелопа Вулпинголд': 'Слизерин'\n",
    "}\n",
    "\n",
    "# departments:\n",
    "{\n",
    "    'Гриффиндор': 2,\n",
    "    'Когтевран': 2,\n",
    "    'Пуффендуй': 0,\n",
    "    'Слизерин': 1\n",
    "}\n",
    "```"
   ]
  },
  {
   "cell_type": "code",
   "execution_count": 37,
   "id": "4385d4b355c7121f",
   "metadata": {},
   "outputs": [
    {
     "name": "stdout",
     "output_type": "stream",
     "text": [
      "{'Аманда Коршун': 'Когтевран',\n",
      " 'Артур Поттер': 'Гриффиндор',\n",
      " 'Пенелопа Вулпинголд': 'Слизерин',\n",
      " 'Сириус Блэк': 'Гриффиндор',\n",
      " 'Тесая Блэк': 'Когтевран'}\n",
      "{'Гриффиндор': 2, 'Когтевран': 2, 'Пуффендуй': 0, 'Слизерин': 1}\n"
     ]
    }
   ],
   "source": [
    "from pprint import pprint\n",
    "\n",
    "\n",
    "# Словарь студентов и их качеств\n",
    "new_students = {\n",
    "    'Сириус Блэк': 'отвага',\n",
    "    'Аманда Коршун': 'знание',\n",
    "    'Пенелопа Вулпинголд': 'находчивость',\n",
    "    'Артур Поттер': 'отвага',\n",
    "    'Тесая Блэк': 'изобретательность'\n",
    "}\n",
    "\n",
    "# Словарь факультетов и их ценностей\n",
    "faculties = {\n",
    "    \"Гриффиндор\": {\"отвага\", \"доброта\", \"решительность\"},\n",
    "    \"Пуффендуй\": {\"усердие\", \"дружелюбие\", \"терпимость\"},\n",
    "    \"Когтевран\": {\"знание\", \"изобретательность\", \"рассудительность\"},\n",
    "    \"Слизерин\": {\"амбиции\", \"находчивость\", \"целеустремленность\"}\n",
    "}\n",
    "\n",
    "# Функция для распределения студентов по факультетам\n",
    "def sorting_hat(students):\n",
    "    sorted_students = {}\n",
    "    departments = {faculty: 0 for faculty in faculties}  # Инициализируем счетчик факультетов\n",
    "\n",
    "    for student, trait in students.items():\n",
    "        faculty = next((house for house, values in faculties.items() if trait in values), \"Не определен\")\n",
    "        sorted_students[student] = faculty\n",
    "        if faculty in departments:\n",
    "            departments[faculty] += 1  # Увеличиваем счетчик факультета\n",
    "\n",
    "    return sorted_students, departments\n",
    "\n",
    "# Запуск функции\n",
    "sorted_students, departments = sorting_hat(new_students)\n",
    "sorted_students = dict(sorted(sorted_students.items(), key=lambda item: item[1]))\n",
    "departments = dict(sorted(departments.items()))\n",
    "\n",
    "# Вывод результатов\n",
    "pprint(sorted_students)\n",
    "pprint(departments)\n",
    "\n"
   ]
  },
  {
   "cell_type": "markdown",
   "id": "ac789ebd9aa897d9",
   "metadata": {},
   "source": [
    "### Задание №5\n",
    "В `my_string`  хранится зашифрованная строка, например:\n",
    "```python\n",
    "# Зашифрованная строка\n",
    "my_string = 'sccfxpzijc is fuc bcd sxcizicg'\n",
    "```\n",
    "В словаре `secret_dict`  хранится ключ к шифру, набор символов, которые нужно заменить:\n",
    "```python\n",
    "# Словарь шифра\n",
    "\n",
    "secret_dict = {\n",
    "'v': 'w',\n",
    "'x': 'y',\n",
    "'i': 'h',\n",
    "'q': 'l',\n",
    "'c': 'n',\n",
    "'o': 'm',\n",
    "'b': 'a',\n",
    "'f': 'r',\n",
    "'j': 'o',\n",
    "'s': 'e',\n",
    "'z': 't',\n",
    "'g': 'k',\n",
    "'l': ' ',\n",
    "'k': 'c',\n",
    "'m': 'p',\n",
    "'n': 'i',\n",
    "'w': 's',\n",
    "'d': 'f',\n",
    "'u': 'u',\n",
    "'r': 'd',\n",
    "'e': 'x',\n",
    "'y': 'g'}\n",
    "```\n",
    "Таким образом, словарь `secret_dict` говорит нам, что в строке `my_string` букву `v` нужно заменить на `m`, `s` на 'e' и т. д. Если мы сделаем такие замены в строке my_string, то `sckfxmznjclnwlduclbcrlseknzncy` превратится в `encryption is fun and exciting`.\n",
    "\n",
    "Напишите программу, которая расшифровывает строку `my_string = 'nlbolyjccblyszlblzsclnclmxzijc'` при помощи словаря secret_dict. Расшифрованную строку сохраните в переменную decrypted_string."
   ]
  },
  {
   "cell_type": "code",
   "execution_count": 41,
   "id": "48c201ee026f8ae5",
   "metadata": {
    "ExecuteTime": {
     "end_time": "2024-12-17T20:56:24.178896Z",
     "start_time": "2024-12-17T20:56:24.175887Z"
    }
   },
   "outputs": [
    {
     "name": "stdout",
     "output_type": "stream",
     "text": [
      "i am gonna get a ten in python\n"
     ]
    }
   ],
   "source": [
    "# Напиши решение тут\n",
    "my_string = 'nlbolyjccblyszlblzsclnclmxzijc'\n",
    "\n",
    "secret_dict = {\n",
    "'v': 'w',\n",
    "'x': 'y',\n",
    "'i': 'h',\n",
    "'q': 'l',\n",
    "'c': 'n',\n",
    "'o': 'm',\n",
    "'b': 'a',\n",
    "'f': 'r',\n",
    "'j': 'o',\n",
    "'s': 'e',\n",
    "'z': 't',\n",
    "'g': 'k',\n",
    "'l': ' ',\n",
    "'k': 'c',\n",
    "'m': 'p',\n",
    "'n': 'i',\n",
    "'w': 's',\n",
    "'d': 'f',\n",
    "'u': 'u',\n",
    "'r': 'd',\n",
    "'e': 'x',\n",
    "'y': 'g'}\n",
    "\n",
    "def decoder(my_string):\n",
    "    decrypted_string = \"\"\n",
    "    for c in my_string:\n",
    "        decrypted_string += str(secret_dict.get(c))\n",
    "    return decrypted_string\n",
    "        \n",
    "print(decoder(my_string))\n"
   ]
  }
 ],
 "metadata": {
  "kernelspec": {
   "display_name": "Python 3",
   "language": "python",
   "name": "python3"
  },
  "language_info": {
   "codemirror_mode": {
    "name": "ipython",
    "version": 3
   },
   "file_extension": ".py",
   "mimetype": "text/x-python",
   "name": "python",
   "nbconvert_exporter": "python",
   "pygments_lexer": "ipython3",
   "version": "3.12.8"
  }
 },
 "nbformat": 4,
 "nbformat_minor": 5
}
